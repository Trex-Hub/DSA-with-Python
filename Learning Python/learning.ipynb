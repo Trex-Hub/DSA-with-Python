{
 "cells": [
  {
   "cell_type": "code",
   "execution_count": 1,
   "metadata": {},
   "outputs": [
    {
     "name": "stdout",
     "output_type": "stream",
     "text": [
      "Hello World\n"
     ]
    }
   ],
   "source": [
    "print(\"Hello World\")"
   ]
  },
  {
   "cell_type": "code",
   "execution_count": 4,
   "metadata": {},
   "outputs": [
    {
     "name": "stdout",
     "output_type": "stream",
     "text": [
      "Equal\n"
     ]
    }
   ],
   "source": [
    "if 3 == 3:\n",
    "    print(\"Equal\")\n",
    "else:\n",
    "    print(\"3 is not equal to 2\")"
   ]
  },
  {
   "cell_type": "code",
   "execution_count": 8,
   "metadata": {},
   "outputs": [
    {
     "name": "stdout",
     "output_type": "stream",
     "text": [
      "Alto\n"
     ]
    }
   ],
   "source": [
    "car_name = \"Alto\"\n",
    "print(car_name)"
   ]
  },
  {
   "cell_type": "code",
   "execution_count": 14,
   "metadata": {},
   "outputs": [
    {
     "name": "stdout",
     "output_type": "stream",
     "text": [
      "Hello Commenting World?\n"
     ]
    }
   ],
   "source": [
    "# This is Single Line Comment? \n",
    "\"\"\"\n",
    "Hehehe\n",
    "This is Multi Line Comment\n",
    "\"\"\"\n",
    "\n",
    "print(\"Hello Commenting World?\")"
   ]
  },
  {
   "cell_type": "code",
   "execution_count": 23,
   "metadata": {},
   "outputs": [
    {
     "name": "stdout",
     "output_type": "stream",
     "text": [
      "Value of a is:  3 Type:  <class 'str'>\n",
      "3\n",
      "3.0\n"
     ]
    }
   ],
   "source": [
    "a = str(3)\n",
    "b = int(3)\n",
    "c = float(3)\n",
    "\n",
    "print('Value of a is: ',a , 'Type: ', type(a) )\n",
    "print(b)\n",
    "print(c)"
   ]
  },
  {
   "cell_type": "code",
   "execution_count": 25,
   "metadata": {},
   "outputs": [
    {
     "name": "stdout",
     "output_type": "stream",
     "text": [
      "1 2 3\n"
     ]
    }
   ],
   "source": [
    "x, y, z = 1, 2, 3\n",
    "print(x, y, z)"
   ]
  },
  {
   "cell_type": "code",
   "execution_count": 27,
   "metadata": {},
   "outputs": [
    {
     "name": "stdout",
     "output_type": "stream",
     "text": [
      "apple mango banana\n"
     ]
    }
   ],
   "source": [
    "fruits = ['apple', 'mango', 'banana']\n",
    "x, y, z = fruits\n",
    "print(x, y, z)"
   ]
  },
  {
   "cell_type": "code",
   "execution_count": 33,
   "metadata": {},
   "outputs": [
    {
     "name": "stdout",
     "output_type": "stream",
     "text": [
      "JavaScript is better than Python \n",
      "Python is better than JavaScript \n"
     ]
    }
   ],
   "source": [
    "x = 'JavaScript '\n",
    "y = 'is better than '\n",
    "z = 'Python '\n",
    "\n",
    "print( x + y + z)\n",
    "print( z + y + x)\n"
   ]
  },
  {
   "cell_type": "code",
   "execution_count": 36,
   "metadata": {},
   "outputs": [
    {
     "name": "stdout",
     "output_type": "stream",
     "text": [
      "Devendra\n",
      "My Name is  Dev\n"
     ]
    }
   ],
   "source": [
    "x = 'Devendra'\n",
    "\n",
    "def print_my_name():\n",
    "    x = \"Dev\"\n",
    "    print(\"My Name is \", x)\n",
    "\n",
    "print(x)\n",
    "print_my_name()"
   ]
  },
  {
   "cell_type": "code",
   "execution_count": 41,
   "metadata": {},
   "outputs": [
    {
     "name": "stdout",
     "output_type": "stream",
     "text": [
      "My Name is  Dev\n",
      "Dev\n"
     ]
    }
   ],
   "source": [
    "def print_my_name():\n",
    "    global x_name \n",
    "    x_name = \"Dev\"\n",
    "    print(\"My Name is \", x_name)\n",
    "\n",
    "print_my_name()\n",
    "print(x_name)\n"
   ]
  },
  {
   "cell_type": "code",
   "execution_count": 134,
   "metadata": {},
   "outputs": [
    {
     "name": "stdout",
     "output_type": "stream",
     "text": [
      "9\n",
      "8\n",
      "7\n",
      "6\n",
      "5\n",
      "4\n",
      "3\n",
      "2\n",
      "1\n"
     ]
    }
   ],
   "source": [
    "# for(start, stop, increment)\n",
    "# increment means how the value should increase, decrease and travers.\n",
    "for x in range(9, 0, -1):\n",
    "    print(x)\n",
    "\n",
    "# fruit_banana = \"banana\"\n",
    "# for x in fruit_banana:\n",
    "#     print(x)"
   ]
  },
  {
   "cell_type": "code",
   "execution_count": 72,
   "metadata": {},
   "outputs": [
    {
     "name": "stdout",
     "output_type": "stream",
     "text": [
      "[1, 2]\n",
      "<class 'list'>\n",
      "[1, 2, 'Dev']\n",
      "<class 'list'>\n"
     ]
    }
   ],
   "source": [
    "my_arr = [1 , 2]\n",
    "print(my_arr)\n",
    "print(type(my_arr))\n",
    "my_arr.append('Dev')\n",
    "print(my_arr)\n",
    "print(type(my_arr))\n",
    "\n",
    "# Arrays do not exist in vanilla Python."
   ]
  },
  {
   "cell_type": "code",
   "execution_count": 89,
   "metadata": {},
   "outputs": [
    {
     "name": "stdout",
     "output_type": "stream",
     "text": [
      "{'dev', 'parth', 'manoj'}\n",
      "2\n",
      "bytearray(b'\\x00')\n",
      "<class 'bytearray'>\n"
     ]
    }
   ],
   "source": [
    "my_set = {\"dev\", \"parth\", \"manoj\"}\n",
    "print(my_set)\n",
    "\n",
    "print(my_arr[1])\n",
    "\n",
    "my_name = bytearray(1)\n",
    "print(my_name)\n",
    "print(type(my_name))"
   ]
  },
  {
   "cell_type": "code",
   "execution_count": 91,
   "metadata": {},
   "outputs": [
    {
     "name": "stdout",
     "output_type": "stream",
     "text": [
      "None\n",
      "<class 'NoneType'>\n"
     ]
    }
   ],
   "source": [
    "girlfriend = None\n",
    "print(girlfriend)\n",
    "print(type(girlfriend))"
   ]
  },
  {
   "cell_type": "code",
   "execution_count": 98,
   "metadata": {},
   "outputs": [
    {
     "name": "stdout",
     "output_type": "stream",
     "text": [
      "4\n"
     ]
    }
   ],
   "source": [
    "d = 4.1\n",
    "# Converting Float to int results in ignoring the value after decimal\n",
    "print(int(d))"
   ]
  },
  {
   "cell_type": "code",
   "execution_count": 103,
   "metadata": {},
   "outputs": [
    {
     "name": "stdout",
     "output_type": "stream",
     "text": [
      "<class 'int'>\n"
     ]
    }
   ],
   "source": [
    "e = '92'\n",
    "e = int(e)\n",
    "print(type(e))"
   ]
  },
  {
   "cell_type": "code",
   "execution_count": 113,
   "metadata": {},
   "outputs": [
    {
     "name": "stdout",
     "output_type": "stream",
     "text": [
      "javascript is not present\n"
     ]
    }
   ],
   "source": [
    "test_str = \"Python is a object oriented programming language.\"\n",
    "\n",
    "# Python is case sensitive.\n",
    "\n",
    "if 'javascript' in test_str:\n",
    "    print('javascript is present')\n",
    "else:\n",
    "    print('javascript is not present')\n",
    "\n",
    "# for x in range(0, len(test_str)-1):\n",
    "#     print(test_str[x])"
   ]
  },
  {
   "cell_type": "code",
   "execution_count": 16,
   "metadata": {},
   "outputs": [
    {
     "name": "stdout",
     "output_type": "stream",
     "text": [
      "orld!\n",
      "orld!\n"
     ]
    }
   ],
   "source": [
    "b = \"Hello, World!\"\n",
    "print(b[-5:]) # Running till the end\n",
    "print(b[-5:13]) # Using +ive Index\n",
    " \n",
    "# Upper limit is not included in the range so to counter that we can use string len or let it run till the end.\n"
   ]
  },
  {
   "cell_type": "code",
   "execution_count": 24,
   "metadata": {},
   "outputs": [
    {
     "name": "stdout",
     "output_type": "stream",
     "text": [
      "Hello , World!\n"
     ]
    }
   ],
   "source": [
    "hello_world = \"         Hello , World!                 \"\n",
    "print(hello_world.strip()) # Removes the whitespace before and after the final character but not the whitespaces used in between"
   ]
  },
  {
   "cell_type": "code",
   "execution_count": 25,
   "metadata": {},
   "outputs": [
    {
     "name": "stdout",
     "output_type": "stream",
     "text": [
      "         Dello , World!                 \n",
      "['         Hello ', ' World!                 ']\n"
     ]
    }
   ],
   "source": [
    "print(hello_world.replace(\"H\", \"D\"))\n",
    "print(hello_world.split( \",\"))\n"
   ]
  },
  {
   "cell_type": "code",
   "execution_count": 28,
   "metadata": {},
   "outputs": [
    {
     "name": "stdout",
     "output_type": "stream",
     "text": [
      "DevendraMishra\n",
      "Devendra Mishra\n"
     ]
    }
   ],
   "source": [
    "first_name = \"Devendra\"\n",
    "last_name = \"Mishra\"\n",
    "print(first_name + last_name) # Output without Whitespace in betwwen\n",
    "print(first_name + \" \" + last_name) # Output with Whitespace in betwwen"
   ]
  },
  {
   "cell_type": "code",
   "execution_count": 32,
   "metadata": {},
   "outputs": [
    {
     "name": "stdout",
     "output_type": "stream",
     "text": [
      " The Price for that Azure Account is $69. \n"
     ]
    }
   ],
   "source": [
    "price = 69\n",
    "\n",
    "txt = f\" The Price for that Azure Account is ${price}. \"\n",
    "print(txt)"
   ]
  },
  {
   "cell_type": "code",
   "execution_count": 37,
   "metadata": {},
   "outputs": [
    {
     "name": "stdout",
     "output_type": "stream",
     "text": [
      "The Price for that Azure Account is $69.00\n"
     ]
    }
   ],
   "source": [
    "print(f\"The Price for that Azure Account is ${price:.2f}\") #Format Strings with placeholder and Modifier \n",
    "\n",
    "# We can use format strings used as f\"<string>\" as alternate or Python Adaptation for ``"
   ]
  },
  {
   "cell_type": "code",
   "execution_count": 38,
   "metadata": {},
   "outputs": [
    {
     "name": "stdout",
     "output_type": "stream",
     "text": [
      "Price for that Toy is $20, and the total price for 2 Toys is $40\n"
     ]
    }
   ],
   "source": [
    "print(f\"Price for that Toy is ${10*2}, and the total price for 2 Toys is ${10*2*2}\")\n",
    "# We can use expressions inside the format strings\n",
    "# "
   ]
  },
  {
   "cell_type": "code",
   "execution_count": 48,
   "metadata": {},
   "outputs": [
    {
     "name": "stdout",
     "output_type": "stream",
     "text": [
      "We are the so-called \"Vikings\" from the north.\n"
     ]
    }
   ],
   "source": [
    "# To Print some illegal character/symbol in python escape it with backslash `\\`\n",
    "print(\"We are the so-called \\\"Vikings\\\" from the north.\")"
   ]
  },
  {
   "cell_type": "code",
   "execution_count": 54,
   "metadata": {},
   "outputs": [
    {
     "name": "stdout",
     "output_type": "stream",
     "text": [
      "False\n",
      "True\n"
     ]
    }
   ],
   "source": [
    "# Returns True if the specified object is of the specified type, otherwise False.\n",
    "print(isinstance(\"69\", int))\n",
    "print(isinstance(69, int))\n"
   ]
  },
  {
   "cell_type": "code",
   "execution_count": null,
   "metadata": {},
   "outputs": [],
   "source": []
  }
 ],
 "metadata": {
  "kernelspec": {
   "display_name": "Python 3",
   "language": "python",
   "name": "python3"
  },
  "language_info": {
   "codemirror_mode": {
    "name": "ipython",
    "version": 3
   },
   "file_extension": ".py",
   "mimetype": "text/x-python",
   "name": "python",
   "nbconvert_exporter": "python",
   "pygments_lexer": "ipython3",
   "version": "3.12.4"
  }
 },
 "nbformat": 4,
 "nbformat_minor": 2
}
